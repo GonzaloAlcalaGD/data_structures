{
 "cells": [
  {
   "cell_type": "code",
   "execution_count": 26,
   "metadata": {},
   "outputs": [
    {
     "data": {
      "text/plain": [
       "(1, 2)"
      ]
     },
     "execution_count": 26,
     "metadata": {},
     "output_type": "execute_result"
    }
   ],
   "source": [
    "# 1.- Two sums\n",
    "def twoSum(nums: list, target: int) -> list:\n",
    "    \n",
    "    my_dict = {}\n",
    "\n",
    "    for idx, value in enumerate(nums):\n",
    "        if target-value in my_dict:\n",
    "            return (my_dict[target-value], idx)\n",
    "        else:\n",
    "            my_dict[value] = idx\n",
    "    \n",
    "\n",
    "twoSum(nums=[2,7,11,15], target=18)\n",
    "# twoSum(nums=[3,2,4], target=6)\n",
    "# twoSum(nums=[3,3], target=6)"
   ]
  },
  {
   "cell_type": "code",
   "execution_count": 17,
   "metadata": {},
   "outputs": [
    {
     "name": "stdout",
     "output_type": "stream",
     "text": [
      "0 a\n",
      "1 s\n",
      "2 d\n",
      "3 a\n",
      "4 s\n",
      "5 d\n"
     ]
    }
   ],
   "source": [
    "for idx, c in enumerate('asdasd'):\n",
    "    print(idx, c)"
   ]
  },
  {
   "cell_type": "code",
   "execution_count": 24,
   "metadata": {},
   "outputs": [
    {
     "data": {
      "text/plain": [
       "3"
      ]
     },
     "execution_count": 24,
     "metadata": {},
     "output_type": "execute_result"
    }
   ],
   "source": [
    "# 2.- Longest substring without repeating characters\n",
    "\n",
    "def lengthOfLongestSubstring(s: str) -> int:\n",
    "    \n",
    "    tmp = \"\"\n",
    "    max_length = 0\n",
    "\n",
    "    if len(s) == 0:\n",
    "        return 0\n",
    "    \n",
    "    if len(s) == 1:\n",
    "        return 1\n",
    "    \n",
    "    for ch in s:\n",
    "\n",
    "        result = ''.join(ch)\n",
    "\n",
    "        if result in tmp:\n",
    "            tmp = tmp[tmp.index(ch) + 1:]\n",
    "        \n",
    "        tmp += ''.join(ch)\n",
    "        max_length = max(len(tmp), max_length)\n",
    "\n",
    "    return max_length\n",
    "\n",
    "lengthOfLongestSubstring(s=\"abcabcbb\")"
   ]
  },
  {
   "cell_type": "code",
   "execution_count": 42,
   "metadata": {},
   "outputs": [
    {
     "data": {
      "text/plain": [
       "'bb'"
      ]
     },
     "execution_count": 42,
     "metadata": {},
     "output_type": "execute_result"
    }
   ],
   "source": [
    "# 3.- Longest Palindromic Substring\n",
    "\n",
    "s = 'cbbd'\n",
    "longest = (0,1)\n",
    "s_length = len(s)\n",
    "dp = [[0]*s_length for _ in range(s_length)] # Create a matrix of 0's\n",
    "\n",
    "# Fill the matrix with a diagonal of True\n",
    "for i in range(s_length):\n",
    "    dp[i][i] = True\n",
    "\n",
    "for i in range(s_length-1,-1,-1):\n",
    "    \n",
    "    for j in range(i+1, s_length):\n",
    "        # Check for char match \n",
    "        if s[i] == s[j]:\n",
    "            # If len sliced substrings is one letter and char are equal dp[i][j] = True\n",
    "            # If sliced substring is longer than 1 check inner string \n",
    "            if j - i == 1 or dp[i+1][j-1] is True:\n",
    "                dp[i][j] = True\n",
    "                # Keep track of the maximum palindrome sequence\n",
    "                if longest[1] - longest[0] < j - i + 1: \n",
    "                    longest = (i, j+1)\n",
    "            \n",
    "s[longest[0]:longest[1]]"
   ]
  },
  {
   "cell_type": "code",
   "execution_count": 51,
   "metadata": {},
   "outputs": [],
   "source": [
    "# 3.- Max Area\n",
    "def maxArea( height: list) -> int:\n",
    "    max_area = 0 \n",
    "    i = 0\n",
    "    j = len(height)-1\n",
    "    while i < j:\n",
    "        width = abs(i-j)\n",
    "        area = width * min(height[i],height[j])\n",
    "        max_area = max(area,max_area)\n",
    "        if height[i] > height[j]:\n",
    "            j -=1\n",
    "        else:\n",
    "            i +=1\n",
    "    return max_area "
   ]
  },
  {
   "cell_type": "code",
   "execution_count": 58,
   "metadata": {},
   "outputs": [],
   "source": [
    "# 4.- 3 Sum\n",
    "\n",
    "def three_way_sum(nums):\n",
    "\n",
    "    res = set()\n",
    "\n",
    "    n, p, z = [], [], []\n",
    "\n",
    "    for number in nums:  # Split the numbers provided into positives, negatives and zero\n",
    "        if number > 0:\n",
    "            p.append(number)\n",
    "        elif number < 0:\n",
    "            n.append(number)\n",
    "        else:\n",
    "            z.append(number)\n",
    "    \n",
    "    N, P = set(n), set(p) # Create a set of negatives and positives\n",
    "\n",
    "    if len(z) >= 3: # If we have 3 zeroes or more we can append 3 zeroes to te result\n",
    "        res.append(0,0,0)\n",
    "\n",
    "    if z: # Check for cases where 0 exists in z \n",
    "        for number in P:\n",
    "            if -number in N:\n",
    "                res.add((-number, 0, number))\n",
    "    \n",
    "    for idx, val in range(len(n)):\n",
    "        for idx2 in range(idx+1, len(n)):\n",
    "            target = -(n[idx], n[idx2])\n",
    "            if target in P:\n",
    "                res.add(tuple(sorted(n[idx], n[idx2], target)))\n",
    "    \n",
    "    for idx, val in range(len(p)):\n",
    "        for idx2 in range(idx+1, len(p)):\n",
    "            target = -(p[idx], p[idx2])\n",
    "            if target in N:\n",
    "                res.add(tuple(sorted(p[idx], p[idx2], target)))\n",
    "\n",
    "    return res\n",
    "    \n",
    "\n",
    "\n"
   ]
  },
  {
   "cell_type": "code",
   "execution_count": 59,
   "metadata": {},
   "outputs": [
    {
     "ename": "TypeError",
     "evalue": "bad operand type for unary -: 'tuple'",
     "output_type": "error",
     "traceback": [
      "\u001b[0;31m---------------------------------------------------------------------------\u001b[0m",
      "\u001b[0;31mTypeError\u001b[0m                                 Traceback (most recent call last)",
      "Cell \u001b[0;32mIn [59], line 1\u001b[0m\n\u001b[0;32m----> 1\u001b[0m \u001b[38;5;28mprint\u001b[39m(\u001b[43mthree_way_sum\u001b[49m\u001b[43m(\u001b[49m\u001b[43m[\u001b[49m\u001b[38;5;241;43m-\u001b[39;49m\u001b[38;5;241;43m1\u001b[39;49m\u001b[43m,\u001b[49m\u001b[38;5;241;43m0\u001b[39;49m\u001b[43m,\u001b[49m\u001b[38;5;241;43m1\u001b[39;49m\u001b[43m,\u001b[49m\u001b[38;5;241;43m2\u001b[39;49m\u001b[43m,\u001b[49m\u001b[38;5;241;43m-\u001b[39;49m\u001b[38;5;241;43m1\u001b[39;49m\u001b[43m,\u001b[49m\u001b[38;5;241;43m-\u001b[39;49m\u001b[38;5;241;43m4\u001b[39;49m\u001b[43m]\u001b[49m\u001b[43m)\u001b[49m)\n",
      "Cell \u001b[0;32mIn [58], line 29\u001b[0m, in \u001b[0;36mthree_way_sum\u001b[0;34m(nums)\u001b[0m\n\u001b[1;32m     27\u001b[0m \u001b[38;5;28;01mfor\u001b[39;00m idx, val \u001b[38;5;129;01min\u001b[39;00m \u001b[38;5;28menumerate\u001b[39m(n):\n\u001b[1;32m     28\u001b[0m     \u001b[38;5;28;01mfor\u001b[39;00m idx2 \u001b[38;5;129;01min\u001b[39;00m \u001b[38;5;28mrange\u001b[39m(idx\u001b[38;5;241m+\u001b[39m\u001b[38;5;241m1\u001b[39m, \u001b[38;5;28mlen\u001b[39m(n)):\n\u001b[0;32m---> 29\u001b[0m         target \u001b[38;5;241m=\u001b[39m \u001b[38;5;241;43m-\u001b[39;49m\u001b[43m(\u001b[49m\u001b[43mn\u001b[49m\u001b[43m[\u001b[49m\u001b[43midx\u001b[49m\u001b[43m]\u001b[49m\u001b[43m,\u001b[49m\u001b[43m \u001b[49m\u001b[43mn\u001b[49m\u001b[43m[\u001b[49m\u001b[43midx2\u001b[49m\u001b[43m]\u001b[49m\u001b[43m)\u001b[49m\n\u001b[1;32m     30\u001b[0m         \u001b[38;5;28;01mif\u001b[39;00m target \u001b[38;5;129;01min\u001b[39;00m P:\n\u001b[1;32m     31\u001b[0m             res\u001b[38;5;241m.\u001b[39madd(\u001b[38;5;28mtuple\u001b[39m(\u001b[38;5;28msorted\u001b[39m(n[idx], n[idx2], target)))\n",
      "\u001b[0;31mTypeError\u001b[0m: bad operand type for unary -: 'tuple'"
     ]
    }
   ],
   "source": [
    "print(three_way_sum([-1,0,1,2,-1,-4]))"
   ]
  },
  {
   "cell_type": "code",
   "execution_count": null,
   "metadata": {},
   "outputs": [],
   "source": []
  }
 ],
 "metadata": {
  "kernelspec": {
   "display_name": "Python 3.8.9 64-bit",
   "language": "python",
   "name": "python3"
  },
  "language_info": {
   "codemirror_mode": {
    "name": "ipython",
    "version": 3
   },
   "file_extension": ".py",
   "mimetype": "text/x-python",
   "name": "python",
   "nbconvert_exporter": "python",
   "pygments_lexer": "ipython3",
   "version": "3.8.9"
  },
  "orig_nbformat": 4,
  "vscode": {
   "interpreter": {
    "hash": "31f2aee4e71d21fbe5cf8b01ff0e069b9275f58929596ceb00d14d90e3e16cd6"
   }
  }
 },
 "nbformat": 4,
 "nbformat_minor": 2
}
